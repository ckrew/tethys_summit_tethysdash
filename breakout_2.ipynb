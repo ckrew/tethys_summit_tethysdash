{
 "cells": [
  {
   "cell_type": "code",
   "execution_count": null,
   "id": "28574e8a",
   "metadata": {
    "vscode": {
     "languageId": "plaintext"
    }
   },
   "outputs": [],
   "source": [
    "print(\"test\")"
   ]
  }
 ],
 "metadata": {
  "language_info": {
   "name": "python"
  }
 },
 "nbformat": 4,
 "nbformat_minor": 5
}
